{
 "cells": [
  {
   "cell_type": "code",
   "execution_count": 1,
   "metadata": {},
   "outputs": [
    {
     "ename": "ModuleNotFoundError",
     "evalue": "No module named 'qiskit'",
     "output_type": "error",
     "traceback": [
      "\u001b[1;31m---------------------------------------------------------------------------\u001b[0m",
      "\u001b[1;31mModuleNotFoundError\u001b[0m                       Traceback (most recent call last)",
      "\u001b[1;32m<ipython-input-1-934697c6e26c>\u001b[0m in \u001b[0;36m<module>\u001b[1;34m\u001b[0m\n\u001b[1;32m----> 1\u001b[1;33m \u001b[1;32mfrom\u001b[0m \u001b[0mqiskit\u001b[0m \u001b[1;32mimport\u001b[0m \u001b[0mQuantumRegister\u001b[0m\u001b[1;33m,\u001b[0m \u001b[0mClassicalRegister\u001b[0m\u001b[1;33m,\u001b[0m \u001b[0mQuantumCircuit\u001b[0m\u001b[1;33m\u001b[0m\u001b[1;33m\u001b[0m\u001b[0m\n\u001b[0m\u001b[0;32m      2\u001b[0m \u001b[1;32mfrom\u001b[0m \u001b[0mqiskit\u001b[0m \u001b[1;32mimport\u001b[0m \u001b[0mIBMQ\u001b[0m\u001b[1;33m,\u001b[0m \u001b[0mAer\u001b[0m\u001b[1;33m,\u001b[0m \u001b[0mexecute\u001b[0m\u001b[1;33m\u001b[0m\u001b[1;33m\u001b[0m\u001b[0m\n\u001b[0;32m      3\u001b[0m \u001b[1;33m\u001b[0m\u001b[0m\n\u001b[0;32m      4\u001b[0m \u001b[1;31m#Define registers and a quantum circuit\u001b[0m\u001b[1;33m\u001b[0m\u001b[1;33m\u001b[0m\u001b[1;33m\u001b[0m\u001b[0m\n\u001b[0;32m      5\u001b[0m \u001b[0mq\u001b[0m \u001b[1;33m=\u001b[0m \u001b[0mQuantumRegister\u001b[0m\u001b[1;33m(\u001b[0m\u001b[1;36m8\u001b[0m\u001b[1;33m)\u001b[0m\u001b[1;33m\u001b[0m\u001b[1;33m\u001b[0m\u001b[0m\n",
      "\u001b[1;31mModuleNotFoundError\u001b[0m: No module named 'qiskit'"
     ]
    }
   ],
   "source": [
    "from qiskit import QuantumRegister, ClassicalRegister, QuantumCircuit\n",
    "from qiskit import IBMQ, Aer, execute\n",
    "\n",
    "#Define registers and a quantum circuit\n",
    "q = QuantumRegister(8)\n",
    "c = ClassicalRegister(2)\n",
    "qc = QuantumCircuit(q,c)\n",
    "\n",
    "# prepare inputs for testing\n",
    "# inputdata = [0,0,0] \n",
    "# if inputdata[0] == 0:\n",
    "#     print('0')\n",
    "# else: \n",
    "#     qc.x(q[0])\n",
    "#     print('1')\n",
    "# if inputdata[1] == 0:\n",
    "#     print('0')    \n",
    "# else: \n",
    "#     qc.x(q[1])\n",
    "#     print('1')\n",
    "# if inputdata[2] == 0:\n",
    "#     print('0')    \n",
    "# else: \n",
    "#     qc.x(q[2])\n",
    "#     print('1')\n",
    "\n",
    "def OR(a,b,c):\n",
    "    qc.cx(q[b], q[c])\n",
    "    qc.cx(q[a], q[c])\n",
    "    qc.ccx(q[a], q[b], q[c])\n",
    "def hadder(a,b,s,c):\n",
    "    #XOR\n",
    "    qc.cx(q[b], q[s])\n",
    "    qc.cx(q[a], q[s])\n",
    "    #AND\n",
    "    qc.ccx(q[a], q[b], q[c])\n",
    "    \n",
    "hadder(0,1,4,3)\n",
    "qc.barrier(q)\n",
    "hadder(4,2,6,5)\n",
    "qc.barrier(q)\n",
    "OR(3,5,7)\n",
    "qc.barrier(q)\n",
    "#measure \n",
    "qc.measure(q[6], c[0])\n",
    "qc.measure(q[7], c[1])\n",
    "\n",
    "backend = Aer.get_backend('qasm_simulator')\n",
    "job = execute(qc, backend, shots=1000)\n",
    "result = job.result()\n",
    "count =result.get_counts()\n",
    "print(count)\n",
    "qc.draw(output='mpl')"
   ]
  },
  {
   "cell_type": "code",
   "execution_count": 2,
   "metadata": {},
   "outputs": [],
   "source": [
    "# Full adder\n",
    "# input qubits: a, b, cin(sum)\n",
    "# output qubits: sum(cin) and cout (carry-out)\n",
    "# Clearify: I am using the same qubit for both cin and sum\n",
    "def fulladd(circ, a, b, s, cout) :\n",
    "    circ.ccx(a, b, cout)\n",
    "    circ.cx(a, b)\n",
    "    circ.ccx(b, s, cout)\n",
    "    circ.cx(b, s)\n",
    "    circ.cx(a, b)"
   ]
  },
  {
   "cell_type": "code",
   "execution_count": 3,
   "metadata": {},
   "outputs": [],
   "source": [
    "# Create registers and circuit\n",
    "a = QuantumRegister(1, 'a')  # input\n",
    "b = QuantumRegister(1, 'b')\n",
    "s = QuantumRegister(1, 'cin/s')  # output\n",
    "cout = QuantumRegister(1, 'cout')\n",
    "qc = QuantumCircuit(a, b, s, cout)"
   ]
  },
  {
   "cell_type": "code",
   "execution_count": 4,
   "metadata": {},
   "outputs": [
    {
     "data": {
      "text/plain": [
       "<qiskit.circuit.instructionset.InstructionSet at 0x2215fcaa6d8>"
      ]
     },
     "execution_count": 4,
     "metadata": {},
     "output_type": "execute_result"
    }
   ],
   "source": [
    "# All combinations of input\n",
    "qc.h(a)\n",
    "qc.h(b)\n",
    "qc.h(s)\n",
    "qc.barrier()\n",
    "# Build adder circuit\n",
    "fulladd(qc, a, b, s, cout)\n",
    "qc.barrier()\n",
    "# Measure the sum\n",
    "m = ClassicalRegister(2, 'sum')\n",
    "qc.add_register(m)\n",
    "qc.measure(cout,m[1])\n",
    "qc.measure(s,m[0])"
   ]
  },
  {
   "cell_type": "code",
   "execution_count": 5,
   "metadata": {},
   "outputs": [
    {
     "name": "stdout",
     "output_type": "stream",
     "text": [
      "{'00': 505, '10': 1491, '01': 1569, '11': 531}\n"
     ]
    }
   ],
   "source": [
    "# Simulate and show results\n",
    "backend = Aer.get_backend('qasm_simulator')\n",
    "job = execute(qc, backend, shots=4096)  # shots default = 1024\n",
    "result = job.result()\n",
    "print(result.get_counts())"
   ]
  },
  {
   "cell_type": "code",
   "execution_count": 6,
   "metadata": {},
   "outputs": [
    {
     "data": {
      "image/png": "[encoded data removed]",
      "text/plain": [
       "<Figure size 801.864x325.08 with 1 Axes>"
      ]
     },
     "execution_count": 6,
     "metadata": {},
     "output_type": "execute_result"
    }
   ],
   "source": [
    "qc.draw(output='mpl')"
   ]
  },
  {
   "cell_type": "code",
   "execution_count": 7,
   "metadata": {},
   "outputs": [
    {
     "data": {
      "image/png": "[encoded data removed]",
      "text/plain": [
       "<Figure size 504x360 with 1 Axes>"
      ]
     },
     "execution_count": 7,
     "metadata": {},
     "output_type": "execute_result"
    }
   ],
   "source": [
    "plot_histogram(result.get_counts())"
   ]
  }
 ],
 "metadata": {
  "kernelspec": {
   "display_name": "Python 3",
   "language": "python",
   "name": "python3"
  },
  "language_info": {
   "codemirror_mode": {
    "name": "ipython",
    "version": 3
   },
   "file_extension": ".py",
   "mimetype": "text/x-python",
   "name": "python",
   "nbconvert_exporter": "python",
   "pygments_lexer": "ipython3",
   "version": "3.7.3"
  }
 },
 "nbformat": 4,
 "nbformat_minor": 2
}
